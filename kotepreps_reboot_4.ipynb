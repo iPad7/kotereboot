{
 "cells": [
  {
   "cell_type": "markdown",
   "id": "3480dd5a",
   "metadata": {},
   "source": [
    "# Kotepreps_Reboot_4\n",
    "\n",
    "* 총 6문\n",
    "\n",
    "* 출처: 프로그래머스\n",
    "\n",
    "* 난이도: 프로그래머스 분류 기준 lv. 1 ~ lv. 3"
   ]
  },
  {
   "cell_type": "markdown",
   "id": "7bbb319d",
   "metadata": {},
   "source": [
    "## Q1\n",
    "\n",
    "**[문자열 내 마음대로 정렬하기](https://school.programmers.co.kr/learn/courses/30/lessons/12915) - 힐링**\n",
    "\n",
    "* Lv. 1(72%)"
   ]
  },
  {
   "cell_type": "code",
   "execution_count": null,
   "id": "fa928228",
   "metadata": {},
   "outputs": [],
   "source": [
    "def solution(strings, n):\n",
    "    strings.sort()\n",
    "    strings.sort(key=lambda x: x[n])\n",
    "    return strings"
   ]
  },
  {
   "cell_type": "markdown",
   "id": "f0e77ebd",
   "metadata": {},
   "source": [
    "## Q2\n",
    "\n",
    "**[숫자 문자열과 영단어](https://school.programmers.co.kr/learn/courses/30/lessons/81301)**\n",
    "\n",
    "* Lv. 1(73%)"
   ]
  },
  {
   "cell_type": "code",
   "execution_count": null,
   "id": "7a0c87b9",
   "metadata": {},
   "outputs": [],
   "source": [
    "def solution(s):\n",
    "    category = dict(zip(['zero','one','two','three','four','five','six','seven','eight','nine'], [str(i) for i in range(10)]))\n",
    "    converter = ''\n",
    "    result = ''\n",
    "    for i in range(len(s)):\n",
    "        # 숫자면 그대로 넘기기\n",
    "        if s[i].isdigit():\n",
    "            result += s[i]\n",
    "            continue\n",
    "        # 숫자 아닌 애들은 일단 컨버터에 쭉 저장.\n",
    "        converter += s[i]\n",
    "        # 컨버터에서 한 단어 완성되면 얘는 숫자로 바꿔주고,\n",
    "        # 이제 다음 단어 받아야되니까 컨버터는 비우기\n",
    "        if converter in category:\n",
    "            result += category[converter]\n",
    "            converter = ''\n",
    "    return int(result)"
   ]
  },
  {
   "cell_type": "markdown",
   "id": "a95326ec",
   "metadata": {},
   "source": [
    "## Q3\n",
    "\n",
    "**[의상](https://school.programmers.co.kr/learn/courses/30/lessons/42578)**\n",
    "\n",
    "* Lv. 2(67%)"
   ]
  },
  {
   "cell_type": "code",
   "execution_count": null,
   "id": "d9091da1",
   "metadata": {},
   "outputs": [],
   "source": [
    "from collections import Counter\n",
    "\n",
    "# Dummy Approach\n",
    "def solution(clothes):\n",
    "    variety = Counter(list(map(lambda x: x[1], clothes)))\n",
    "    pi = 1\n",
    "    for i in variety:\n",
    "        pi *= (variety[i]+1)\n",
    "    return pi - 1"
   ]
  },
  {
   "cell_type": "markdown",
   "id": "b2fd4eb7",
   "metadata": {},
   "source": [
    "## Q4\n",
    "\n",
    "**[H-Index](https://school.programmers.co.kr/learn/courses/30/lessons/42747)**\n",
    "\n",
    "* Lv. 2(67%)"
   ]
  },
  {
   "cell_type": "code",
   "execution_count": null,
   "id": "0129760f",
   "metadata": {},
   "outputs": [],
   "source": [
    "def solution(citations):\n",
    "    citations.sort(reverse = True)\n",
    "    for h in range(len(citations), 0, -1):\n",
    "        if len(list(filter(lambda x: x >= h, citations))) >= h:\n",
    "            return h\n",
    "    return 0"
   ]
  },
  {
   "cell_type": "markdown",
   "id": "e1a34a0b",
   "metadata": {},
   "source": [
    "## Q5\n",
    "\n",
    "**[프로세스](https://school.programmers.co.kr/learn/courses/30/lessons/42587)**\n",
    "\n",
    "* Lv. 2(64%)"
   ]
  },
  {
   "cell_type": "code",
   "execution_count": null,
   "id": "459936ec",
   "metadata": {},
   "outputs": [],
   "source": [
    "from collections import deque\n",
    "\n",
    "def solution(priorities, location):\n",
    "    count = 0\n",
    "    # 큐에 특정 작업의 인덱스와 우선순위를 하나로 묶어서 저장\n",
    "    queue = deque([(idx, val) for idx, val in enumerate(priorities)])\n",
    "    while queue:\n",
    "        candidate = queue.popleft()\n",
    "        if any(x[1] > candidate[1] for x in queue): \n",
    "            queue.append(candidate)\n",
    "        else:\n",
    "            count += 1\n",
    "            if candidate[0] == location: break\n",
    "    return count\n",
    "    "
   ]
  },
  {
   "cell_type": "markdown",
   "id": "2d62f963",
   "metadata": {},
   "source": [
    "## Challenge\n",
    "\n",
    "**[인사고과](https://school.programmers.co.kr/learn/courses/30/lessons/152995)**\n",
    "\n",
    "* Lv. 3(42%)"
   ]
  },
  {
   "cell_type": "code",
   "execution_count": null,
   "id": "8d6fbdea",
   "metadata": {},
   "outputs": [],
   "source": [
    "def solution(scores):\n",
    "    wanho_a, wanho_b = scores[0]\n",
    "    wanho_sum = wanho_a + wanho_b\n",
    "    wanho_rank = 1\n",
    "    scores.sort(key = lambda x: (-x[0], x[1]))\n",
    "    # CONCEPT\n",
    "    # 인센 못받는 애들 특: a, b 모두 특정 원소의 a, b보다 작음\n",
    "    # 그럼 a 기준 내림차순으로 정렬한뒤에 반복문 돌린다면?\n",
    "    #####################################################\n",
    "    # 지금 for문 걸린 애의 a보다 \n",
    "    # a값이 큰 친구들이\n",
    "    # for문 걸린 애 앞쪽에 무조건 있음.\n",
    "    # 이제 b만 대소비교 하면 됨.\n",
    "    \n",
    "\n",
    "    safezone = []\n",
    "    max_b = 0\n",
    "    \n",
    "    for a, b in scores:\n",
    "        if b < max_b:\n",
    "            if a == wanho_a and b == wanho_b:\n",
    "                return -1\n",
    "        else:\n",
    "            max_b = max(max_b, b)\n",
    "            safezone.append(a + b)\n",
    "    safezone.sort(reverse = True)\n",
    "    for sum_ab in safezone:\n",
    "        if sum_ab > wanho_sum: # 왜 wanho_rank의 초기값이 1이었는지.\n",
    "            wanho_rank += 1\n",
    "        else: break\n",
    "    return wanho_rank"
   ]
  },
  {
   "cell_type": "markdown",
   "id": "9f395c13",
   "metadata": {},
   "source": [
    "* 처음에 인센 못 받는 애들 Any로 걸러내려 했는데, 이게 시간을 엄청 잡나봄.\n",
    "\n",
    "* 그래서 gemini한테 물어봤는데 저런 논리를 알려주더라.\n",
    "\n",
    "* 진짜 바로 탭댄스 춤."
   ]
  }
 ],
 "metadata": {
  "language_info": {
   "name": "python"
  }
 },
 "nbformat": 4,
 "nbformat_minor": 5
}
