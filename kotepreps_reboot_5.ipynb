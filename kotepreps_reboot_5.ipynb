{
 "cells": [
  {
   "cell_type": "markdown",
   "id": "154da0c0",
   "metadata": {},
   "source": [
    "# Kotepreps_Reboot_5\n",
    "\n",
    "* 총 4문\n",
    "\n",
    "* 출처: 프로그래머스\n",
    "\n",
    "* 난이도: 프로그래머스 분류 기준 lv. 2 ~ lv. 3"
   ]
  },
  {
   "cell_type": "markdown",
   "id": "f8dbaff7",
   "metadata": {},
   "source": [
    "## Q1\n",
    "\n",
    "**[더 맵게](https://school.programmers.co.kr/learn/courses/30/lessons/42626)**\n",
    "\n",
    "* Lv. 2(61%)"
   ]
  },
  {
   "cell_type": "code",
   "execution_count": 1,
   "id": "b9b56015",
   "metadata": {},
   "outputs": [],
   "source": [
    "import heapq\n",
    "\n",
    "def solution(scoville, K):\n",
    "    cnt = 0\n",
    "    heapq.heapify(scoville)\n",
    "    while scoville[0] < K:\n",
    "        the_least_spicy = heapq.heappop(scoville)\n",
    "        the_next = heapq.heappop(scoville)\n",
    "        heapq.heappush(scoville,the_least_spicy + the_next * 2)\n",
    "        cnt += 1\n",
    "        if len(scoville) == 1 and scoville[0] < K:\n",
    "            return -1\n",
    "    return cnt"
   ]
  },
  {
   "cell_type": "code",
   "execution_count": null,
   "id": "c93774fb",
   "metadata": {},
   "outputs": [],
   "source": [
    "from heapq import heapify, heappush, heappop\n",
    "def solution(scoville, K):\n",
    "    heapify(scoville)\n",
    "    for i in range(1000000):\n",
    "        try:\n",
    "            heappush(scoville, heappop(scoville)+(heappop(scoville)*2))\n",
    "            if scoville[0] >= K: return i+1\n",
    "        except:\n",
    "            return -1"
   ]
  },
  {
   "cell_type": "markdown",
   "id": "28646c59",
   "metadata": {},
   "source": [
    "## Q2\n",
    "\n",
    "**[이중우선순위큐](https://school.programmers.co.kr/learn/courses/30/lessons/42628)**\n",
    "\n",
    "* Lv. 3(62%)"
   ]
  },
  {
   "cell_type": "code",
   "execution_count": null,
   "id": "43bb9957",
   "metadata": {
    "vscode": {
     "languageId": "plaintext"
    }
   },
   "outputs": [],
   "source": []
  },
  {
   "cell_type": "markdown",
   "id": "032779ab",
   "metadata": {},
   "source": [
    "## Q3\n",
    "\n",
    "**[게임 맵 최단거리](https://school.programmers.co.kr/learn/courses/30/lessons/1844)**\n",
    "\n",
    "* Lv. 2(64%)"
   ]
  },
  {
   "cell_type": "code",
   "execution_count": null,
   "id": "217f2d5c",
   "metadata": {
    "vscode": {
     "languageId": "plaintext"
    }
   },
   "outputs": [],
   "source": []
  },
  {
   "cell_type": "markdown",
   "id": "b14275ce",
   "metadata": {},
   "source": [
    "## Q4\n",
    "\n",
    "**[단어변환](https://school.programmers.co.kr/learn/courses/30/lessons/43163)**\n",
    "\n",
    "* Lv. 3(61%)"
   ]
  },
  {
   "cell_type": "code",
   "execution_count": null,
   "id": "d89470df",
   "metadata": {
    "vscode": {
     "languageId": "plaintext"
    }
   },
   "outputs": [],
   "source": []
  }
 ],
 "metadata": {
  "kernelspec": {
   "display_name": "base",
   "language": "python",
   "name": "python3"
  },
  "language_info": {
   "codemirror_mode": {
    "name": "ipython",
    "version": 3
   },
   "file_extension": ".py",
   "mimetype": "text/x-python",
   "name": "python",
   "nbconvert_exporter": "python",
   "pygments_lexer": "ipython3",
   "version": "3.12.7"
  }
 },
 "nbformat": 4,
 "nbformat_minor": 5
}
