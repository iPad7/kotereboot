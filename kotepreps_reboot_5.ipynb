{
 "cells": [
  {
   "cell_type": "markdown",
   "id": "154da0c0",
   "metadata": {},
   "source": [
    "# Kotepreps_Reboot_5\n",
    "\n",
    "* 총 4문\n",
    "\n",
    "* 출처: 프로그래머스\n",
    "\n",
    "* 난이도: 프로그래머스 분류 기준 lv. 2 ~ lv. 3"
   ]
  },
  {
   "cell_type": "markdown",
   "id": "f8dbaff7",
   "metadata": {},
   "source": [
    "## Q1\n",
    "\n",
    "**[더 맵게](https://school.programmers.co.kr/learn/courses/30/lessons/42626)**\n",
    "\n",
    "* Lv. 2(61%)"
   ]
  },
  {
   "cell_type": "code",
   "execution_count": null,
   "id": "b9b56015",
   "metadata": {},
   "outputs": [],
   "source": [
    "import heapq\n",
    "\n",
    "def solution(scoville, K):\n",
    "    cnt = 0\n",
    "    heapq.heapify(scoville)\n",
    "    while scoville[0] < K:\n",
    "        the_least_spicy = heapq.heappop(scoville)\n",
    "        the_next = heapq.heappop(scoville)\n",
    "        heapq.heappush(scoville, the_least_spicy + the_next * 2)\n",
    "        cnt += 1\n",
    "        if len(scoville) == 1 and scoville[0] < K:\n",
    "            return -1\n",
    "    return cnt"
   ]
  },
  {
   "cell_type": "code",
   "execution_count": 28,
   "id": "c93774fb",
   "metadata": {},
   "outputs": [],
   "source": [
    "from heapq import heapify, heappush, heappop\n",
    "def solution(scoville, K):\n",
    "    heapify(scoville)\n",
    "    for i in range(1000000):\n",
    "        try:\n",
    "            heappush(scoville, heappop(scoville)+(heappop(scoville)*2))\n",
    "            if scoville[0] >= K: return i+1\n",
    "        except:\n",
    "            return -1"
   ]
  },
  {
   "cell_type": "markdown",
   "id": "28646c59",
   "metadata": {},
   "source": [
    "## Q2\n",
    "\n",
    "**[이중우선순위큐](https://school.programmers.co.kr/learn/courses/30/lessons/42628)**\n",
    "\n",
    "* Lv. 3(62%)"
   ]
  },
  {
   "cell_type": "code",
   "execution_count": null,
   "id": "43bb9957",
   "metadata": {},
   "outputs": [],
   "source": [
    "import heapq\n",
    "\n",
    "def solution(operations):\n",
    "    array = []\n",
    "    \n",
    "    def enqueue(operation):\n",
    "        nonlocal array\n",
    "        heapq.heappush(array, int(operation[2:]))\n",
    "        \n",
    "    def dequeue(operation):\n",
    "        nonlocal array\n",
    "        if array:\n",
    "            if len(operation) == 4:\n",
    "                heapq.heappop(array)\n",
    "            else:\n",
    "                array = [-i for i in array]\n",
    "                heapq.heapify(array)\n",
    "                heapq.heappop(array)\n",
    "                array = [-i for i in array]\n",
    "                heapq.heapify(array)\n",
    "    \n",
    "    for cmd in operations:\n",
    "        if cmd.startswith('I'):\n",
    "            enqueue(cmd)\n",
    "        else:\n",
    "            dequeue(cmd)\n",
    "    if not array: return [0,0]\n",
    "    return [max(array), heapq.heappop(array)]"
   ]
  },
  {
   "cell_type": "markdown",
   "id": "032779ab",
   "metadata": {},
   "source": [
    "## Q3\n",
    "\n",
    "**[게임 맵 최단거리](https://school.programmers.co.kr/learn/courses/30/lessons/1844)**\n",
    "\n",
    "* Lv. 2(64%)"
   ]
  },
  {
   "cell_type": "code",
   "execution_count": null,
   "id": "217f2d5c",
   "metadata": {},
   "outputs": [],
   "source": [
    "def solution(maps):\n",
    "    routes = [((0,0), 'S')]\n",
    "    opposite = {'N':'S', 'S':'N', 'W':'E', 'E':'W'}\n",
    "    cnt = 1\n",
    "    log = {(0, 0)}\n",
    "    \n",
    "    def test_validity(axis_0, axis_1):\n",
    "        \"\"\"\n",
    "        해당 좌표가 유효한 좌표인지 확인합니다.\n",
    "        <Args>\n",
    "            axis_0(int): 2차원 배열의 세로 인덱스\n",
    "            axis_1(int): 2차원 배열의 가로 인덱스\n",
    "\n",
    "        <Returns>\n",
    "            bool: 인덱스가 배열 밖을 벗어나지 않거나, 실제로 배열 안의 값이 0이 아니고 1이라면, True를 반환합니다.\n",
    "        \"\"\"\n",
    "        nonlocal maps\n",
    "        if 0 <= axis_0 < len(maps) and 0 <= axis_1 <len(maps[0]):\n",
    "            if maps[axis_0][axis_1]:\n",
    "                return True\n",
    "        return False\n",
    "    \n",
    "    def move(location):\n",
    "        \"\"\"\n",
    "        특정 좌표에서 실질적으로 이동할 수 있는 경로를 추려냅니다.\n",
    "        <Args>\n",
    "            location(tuple): (tuple, str)\n",
    "                    L tuple(int, int): axis_0, axis_1\n",
    "                    L str: 방향('N', 'S', 'W', 'E') \n",
    "        <Returns>\n",
    "            list[tuple]: Input data인 location과 동일한 포맷의 tuple들이 담긴 리스트입니다. 이동할 수 있는 경로들만 반환합니다.\n",
    "        \"\"\"\n",
    "        nonlocal log\n",
    "        nonlocal opposite\n",
    "        directions = dict(zip(\n",
    "            ['N', 'S', 'W', 'E'],  # keys\n",
    "            [(location[0][0] - 1, location[0][1]), (location[0][0] + 1,location[0][1]), (location[0][0],location[0][1] - 1), (location[0][0],location[0][1] + 1)]  # values\n",
    "        )\n",
    "    )\n",
    "        del directions[opposite[location[1]]]\n",
    "        return [(directions[d], d) for d in directions if test_validity(directions[d][0], directions[d][1]) and directions[d] not in log]\n",
    "    \n",
    "    while True:\n",
    "        k = []\n",
    "        for i in routes:\n",
    "            next_move = move(i)\n",
    "            k.extend(next_move)\n",
    "            log = log | ({n[0] for n in next_move})\n",
    "        if not k: return -1\n",
    "        routes = k\n",
    "        cnt += 1\n",
    "        if any([i[0] == (len(maps) - 1, len(maps[0]) - 1) for i in routes]):\n",
    "            return cnt"
   ]
  },
  {
   "cell_type": "code",
   "execution_count": null,
   "id": "02baf1fc",
   "metadata": {},
   "outputs": [
    {
     "data": {
      "text/plain": [
       "11"
      ]
     },
     "execution_count": 45,
     "metadata": {},
     "output_type": "execute_result"
    }
   ],
   "source": [
    "I1 = [[1,0,1,1,1],[1,0,1,0,1],[1,0,1,1,1],[1,1,1,0,1],[0,0,0,0,1]]\n",
    "I2 = [[1,0,1,1,1],[1,0,1,0,1],[1,0,1,1,1],[1,1,1,0,0],[0,0,0,0,1]]\n",
    "solution(I1)\n",
    "# solution(I2)"
   ]
  },
  {
   "cell_type": "markdown",
   "id": "b14275ce",
   "metadata": {},
   "source": [
    "## Q4\n",
    "\n",
    "**[단어변환](https://school.programmers.co.kr/learn/courses/30/lessons/43163)**\n",
    "\n",
    "* Lv. 3(61%)"
   ]
  },
  {
   "cell_type": "code",
   "execution_count": null,
   "id": "d89470df",
   "metadata": {},
   "outputs": [],
   "source": []
  },
  {
   "cell_type": "markdown",
   "id": "5fb1664a",
   "metadata": {},
   "source": [
    "# Fundamental Graph: DFS(Depth-first Search) & BFS(Breadth-first Search)"
   ]
  },
  {
   "cell_type": "markdown",
   "id": "b631c272",
   "metadata": {},
   "source": [
    "## Ⅰ. Introduction: Graph\n",
    "\n",
    "* **In Real World**\n",
    "    * Maze, Subway Route, Friends of Friends\n",
    "    * These real world problem → 'SEARCH'\n",
    "\n",
    "* **Frequent type in Coding Test**\n",
    "    * Path Finding, Brute-Force Saerch, Connected Components, etc.\n",
    "    * frameworks to systemically solve complex problems\n",
    "\n",
    "* **Goal of this session**\n",
    "    * DFS/BFS basic concept\n",
    "    * When and What to use?"
   ]
  },
  {
   "cell_type": "markdown",
   "id": "71d0b19b",
   "metadata": {},
   "source": [
    "## Ⅱ. Graph\n",
    "\n",
    "* **Graph**: **Nodes** & **Edges**\n",
    "* **Node**: Datapoints (e.g. city, person, web page)\n",
    "* **Edge**: Connectionss (e.g. route, intimacy, hyperlink)"
   ]
  },
  {
   "cell_type": "markdown",
   "id": "192f473b",
   "metadata": {},
   "source": [
    "### Graph into Codes"
   ]
  },
  {
   "cell_type": "markdown",
   "id": "4ad99b46",
   "metadata": {},
   "source": [
    "#### **1. Adjacency Matrix(인접 행렬)**\n",
    "\n",
    "* 2D Array\n",
    "* `graph[i][j] = 1` (or Cost)  ↔  `i`와 `j`는 연결됨\n",
    "\n",
    "```python\n",
    "# e.g. (1-based index)\n",
    "#   1-2\n",
    "#   |/|\n",
    "#   3-4\n",
    "graph_matrix = [\n",
    "    [0, 1, 1, 0], # Node 1 -> Linked with 2, 3\n",
    "    [1, 0, 1, 1], # Node 2 -> Linked with 1, 3, 4\n",
    "    [1, 1, 0, 1], # Node 3 -> Linked with 1, 2, 4\n",
    "    [0, 1, 1, 0]  # Node 4 -> Linked with 2, 3\n",
    "]\n",
    "```"
   ]
  },
  {
   "cell_type": "markdown",
   "id": "5f12094c",
   "metadata": {},
   "source": [
    "#### **2. (IMPORTANT!!) Adjacency List(인접 리스트)**\n",
    "\n",
    "* `list(list)` or `dict(list)`\n",
    "* `graph[i]` = `[nodes linked with node i]`\n",
    "\n",
    "```python\n",
    "# e.g. (1-based index)\n",
    "# graph[i] =  List composed of NODEs linked with Node I.\n",
    "# List size -> V+1: Indexing Technique\n",
    "graph_list = [\n",
    "    [],        # No index 0\n",
    "    [2, 3],    # Node 1\n",
    "    [1, 3, 4], # Node 2\n",
    "    [1, 2, 4], # Node 3\n",
    "    [2, 3]     # Node 4\n",
    "]\n",
    "```"
   ]
  },
  {
   "cell_type": "markdown",
   "id": "a594ab90",
   "metadata": {},
   "source": [
    "* **Adjacency Matrix**: seaching **whether certain TWO NODES ARE CONNECTED**.\n",
    "\n",
    "* **Adjacency List**: seaching **EVERY NODES connected with a certain node**.\n",
    "\n",
    "* **Mainly Adjacency List** in Coding Test."
   ]
  },
  {
   "cell_type": "markdown",
   "id": "0d939db5",
   "metadata": {},
   "source": [
    "## Ⅲ. DFS: Depth-first Search\n",
    "\n",
    "* **한 우물만**\n",
    "* **Till a dead end**\n",
    "* **Backtracking**\n",
    "* **Stack**: to remember the most recent route"
   ]
  },
  {
   "cell_type": "markdown",
   "id": "06246be6",
   "metadata": {},
   "source": [
    "### 1. Recursive Function\n",
    "\n",
    "* 시스템의 함수 호출 스택이 암묵적으로 스택 역할 수행\n",
    "\n",
    "* Simple Code"
   ]
  },
  {
   "cell_type": "code",
   "execution_count": 47,
   "id": "ddd46bb7",
   "metadata": {},
   "outputs": [],
   "source": [
    "def dfs_recursive(graph, v, visited):\n",
    "    # 현재 노드를 방문 처리\n",
    "    visited[v] = True\n",
    "    print(v, end=' ') # 방문한 노드 출력\n",
    "    \n",
    "    # 현재 노드와 연결된 다른 노드를 재귀적으로 방문\n",
    "    for i in graph[v]:\n",
    "        if not visited[i]:\n",
    "            dfs_recursive(graph, i, visited)"
   ]
  },
  {
   "cell_type": "markdown",
   "id": "4813b0e5",
   "metadata": {},
   "source": [
    "### 2. Stack\n",
    "\n",
    "* without Recursion -> `while` and `list`"
   ]
  },
  {
   "cell_type": "code",
   "execution_count": 46,
   "id": "c09855a2",
   "metadata": {},
   "outputs": [],
   "source": [
    "def dfs_stack(graph, start_node, visited):\n",
    "    stack = [start_node] # 시작 노드를 스택에 추가\n",
    "    \n",
    "    while stack:\n",
    "        v = stack.pop() # 스택에서 노드를 하나 꺼냄\n",
    "        if not visited[v]:\n",
    "            visited[v] = True\n",
    "            print(v, end=' ') # 방문한 노드 출력\n",
    "            # 연결된 노드들을 스택에 추가 (역순으로 넣어야 재귀와 순서가 비슷해짐)\n",
    "            for i in reversed(graph[v]):\n",
    "                if not visited[i]:\n",
    "                    stack.append(i)"
   ]
  },
  {
   "cell_type": "markdown",
   "id": "14a84e0f",
   "metadata": {},
   "source": [
    "**History NECESSARY for preventing infinity loop**"
   ]
  },
  {
   "cell_type": "markdown",
   "id": "86b3f270",
   "metadata": {},
   "source": [
    "## Ⅳ. BFS: Breadth-first Search\n",
    "\n",
    "* **wave🌊**\n",
    "* from the nearest nodes -> Breadth-First\n",
    "* Level-based Search\n",
    "* **Queue**: search firstly detected nodes"
   ]
  },
  {
   "cell_type": "code",
   "execution_count": 48,
   "id": "b91eaea3",
   "metadata": {},
   "outputs": [],
   "source": [
    "from collections import deque\n",
    "\n",
    "def bfs(graph, start_node, visited):\n",
    "    queue = deque([start_node]) # 시작 노드를 큐에 추가\n",
    "    visited[start_node] = True  # 큐에 넣을 때 방문 처리!\n",
    "    \n",
    "    while queue:\n",
    "        v = queue.popleft() # 큐에서 노드를 하나 꺼냄 (가장 먼저 들어온 것)\n",
    "        print(v, end=' ') # 방문한 노드 출력\n",
    "        \n",
    "        # 해당 노드에 연결된, 아직 방문하지 않은 노드들을 큐에 삽입\n",
    "        for i in graph[v]:\n",
    "            if not visited[i]:\n",
    "                queue.append(i)\n",
    "                visited[i] = True # 중복 삽입 방지를 위해 큐에 넣을 때 방문 처리!"
   ]
  },
  {
   "cell_type": "markdown",
   "id": "d7e33054",
   "metadata": {},
   "source": [
    "## Ⅴ. When & What to Use?\n",
    "\n",
    "| Feature | DFS | BFS |\n",
    "| :--- | :--- | :--- |\n",
    "| **Approach** | 깊게, 한 경로를 끝까지 | 넓게, 가까운 순서대로 |\n",
    "| **Data Structure** | Stack, Recursion | Queue |\n",
    "| **Strength** | 모든 경로 탐색, 백트래킹 | **최단 경로 보장 (가중치 없을 때)** |\n",
    "| **Time Complexity** | <span class=\"math-inline\">O\\(V\\+E\\)</span> | <span class=\"math-inline\">O\\(V\\+E\\)</span> |\n",
    "| **Space Complexity** | <span class=\"math-inline\">O\\(V\\)</span> (최대 경로 길이) | <span class=\"math-inline\">O\\(V\\)</span> (최대 너비)"
   ]
  },
  {
   "cell_type": "markdown",
   "id": "9d103a37",
   "metadata": {},
   "source": [
    "* \"모든 경우의 수를 다 따져봐야 하나?\" \"경로의 끝까지 가봐야 결과를 알 수 있나?\"  \n",
    "    ➡️ **DFS**\n",
    "\n",
    "* \"시작점에서 목표까지 가는 가장 빠른 길은?\" \"최소 몇 번 만에 갈 수 있지?\"  \n",
    "    ➡️ **BFS**"
   ]
  },
  {
   "cell_type": "markdown",
   "id": "402e5b61",
   "metadata": {},
   "source": [
    "### e.g. Programmers: 타겟 넘버\n",
    "\n",
    "https://school.programmers.co.kr/learn/courses/30/lessons/43165"
   ]
  },
  {
   "cell_type": "markdown",
   "id": "ee3e1186",
   "metadata": {},
   "source": [
    "### e.g. Programmers: 게임 맵 최단거리\n",
    "\n",
    "https://school.programmers.co.kr/learn/courses/30/lessons/1844"
   ]
  }
 ],
 "metadata": {
  "kernelspec": {
   "display_name": "base",
   "language": "python",
   "name": "python3"
  },
  "language_info": {
   "codemirror_mode": {
    "name": "ipython",
    "version": 3
   },
   "file_extension": ".py",
   "mimetype": "text/x-python",
   "name": "python",
   "nbconvert_exporter": "python",
   "pygments_lexer": "ipython3",
   "version": "3.12.7"
  }
 },
 "nbformat": 4,
 "nbformat_minor": 5
}
